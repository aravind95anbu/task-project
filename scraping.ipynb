{
 "cells": [
  {
   "cell_type": "code",
   "execution_count": 4,
   "id": "06f677aa-1b08-427c-a133-df03f7a019db",
   "metadata": {},
   "outputs": [],
   "source": [
    "from bs4 import BeautifulSoup\n",
    "import requests\n",
    "import pandas as pd"
   ]
  },
  {
   "cell_type": "code",
   "execution_count": 6,
   "id": "d0db1947-3317-4f8e-a676-d866490f72f7",
   "metadata": {},
   "outputs": [],
   "source": [
    "review = []\n",
    "rating = []"
   ]
  },
  {
   "cell_type": "code",
   "execution_count": 36,
   "id": "c794dca1-38ac-42cd-a39c-75e91c3836cb",
   "metadata": {},
   "outputs": [],
   "source": [
    "base_url = 'https://www.google.com/maps/place/Softlogic/@12.9520794,80.1327423,12z/data=!4m12!1m2!2m1!1ssla+kk+nagar+complaints!3m8!1s0x3a526752db8ffe35:0x7f6a2a2d0ebbdc94!8m2!3d13.037989!4d80.2044621!9m1!1b1!15sChdzbGEga2sgbmFnYXIgY29tcGxhaW50c1oZIhdzbGEga2sgbmFnYXIgY29tcGxhaW50c5IBG3NvZnR3YXJlX3RyYWluaW5nX2luc3RpdHV0ZZoBJENoZERTVWhOTUc5blMwVkpRMEZuU1VNMU9IWjVibWRuUlJBQuABAA!16s%2Fg%2F11b6hyvv_9?entry=ttu&g_ep=EgoyMDI0MDkyNS4wIKXMDSoASAFQAw%3D%3D'\n",
    "total_pages = 2"
   ]
  },
  {
   "cell_type": "code",
   "execution_count": 34,
   "id": "5204904a-0ab0-4b70-b9b1-b86b147d3830",
   "metadata": {},
   "outputs": [],
   "source": [
    "for current_page in range(0,total_pages):\n",
    "    url = f\"{base_url}? start= {current_page*10}\"\n",
    "    response = requests.get(url)\n",
    "    html_content = response.content\n",
    "    soup = BeautifulSoup(html_content,'html.parser')\n",
    "    if response.status_code == 200:\n",
    "        soup = BeautifulSoup(response.text,'html.parser')\n",
    "        page_data = soup.select('#reviews>section>div:nth-child(2)>ul')\n",
    "        for data in page_data:\n",
    "            reviews = data.find_all('p',class_='comment_09f24_DOcxf')\n",
    "            ratings = data.select('div >div.margin-t1_09f24_w96jn.margin-b1-5_09f24_NHcQi.border-color—default_09f24_NPAKY > div >div:nth—child(1) > span > div')\n",
    "            for comment in reviews:\n",
    "                review.append(comment.text)\n",
    "            for ratings in ratings:\n",
    "                rating.append(rating['aria-label'])\n",
    "    else:\n",
    "        print(f\"Error:unable to fetch{current_page}\")\n",
    "\n",
    "            "
   ]
  },
  {
   "cell_type": "code",
   "execution_count": 27,
   "id": "e387069d-575d-41de-af4c-7ada454dc295",
   "metadata": {},
   "outputs": [
    {
     "data": {
      "text/html": [
       "<div>\n",
       "<style scoped>\n",
       "    .dataframe tbody tr th:only-of-type {\n",
       "        vertical-align: middle;\n",
       "    }\n",
       "\n",
       "    .dataframe tbody tr th {\n",
       "        vertical-align: top;\n",
       "    }\n",
       "\n",
       "    .dataframe thead th {\n",
       "        text-align: right;\n",
       "    }\n",
       "</style>\n",
       "<table border=\"1\" class=\"dataframe\">\n",
       "  <thead>\n",
       "    <tr style=\"text-align: right;\">\n",
       "      <th></th>\n",
       "      <th>Reviews</th>\n",
       "      <th>Ratings</th>\n",
       "    </tr>\n",
       "  </thead>\n",
       "  <tbody>\n",
       "  </tbody>\n",
       "</table>\n",
       "</div>"
      ],
      "text/plain": [
       "Empty DataFrame\n",
       "Columns: [Reviews, Ratings]\n",
       "Index: []"
      ]
     },
     "execution_count": 27,
     "metadata": {},
     "output_type": "execute_result"
    }
   ],
   "source": [
    "data = {'Reviews':review,\n",
    "        'Ratings':rating}\n",
    "df = pd.DataFrame(data)\n",
    "df"
   ]
  },
  {
   "cell_type": "code",
   "execution_count": 26,
   "id": "e0ef2784-e901-4cb5-83b7-bf0995b399af",
   "metadata": {},
   "outputs": [
    {
     "data": {
      "text/plain": [
       "[]"
      ]
     },
     "execution_count": 26,
     "metadata": {},
     "output_type": "execute_result"
    }
   ],
   "source": [
    "review"
   ]
  },
  {
   "cell_type": "code",
   "execution_count": 28,
   "id": "9d129e91-8e4f-474a-a5c6-bbd00b84df13",
   "metadata": {},
   "outputs": [
    {
     "data": {
      "text/plain": [
       "[]"
      ]
     },
     "execution_count": 28,
     "metadata": {},
     "output_type": "execute_result"
    }
   ],
   "source": [
    "rating"
   ]
  },
  {
   "cell_type": "code",
   "execution_count": 16,
   "id": "ac690da4-688f-43dd-b24f-f9e4ac6969df",
   "metadata": {},
   "outputs": [
    {
     "name": "stdout",
     "output_type": "stream",
     "text": [
      "Error: Unable to fetch page 0. Status code: 429\n"
     ]
    }
   ],
   "source": [
    "import requests\n",
    "from bs4 import BeautifulSoup\n",
    "\n",
    "# Initialize lists to store reviews and ratings\n",
    "reviews = []\n",
    "ratings = []\n",
    "\n",
    "# Loop through each page\n",
    "for current_page in range(0, total_pages):\n",
    "    # Construct the URL, ensuring no extra spaces\n",
    "    url = f\"{base_url}?start={current_page * 10}\"\n",
    "    response = requests.get(url)\n",
    "\n",
    "    # Check the status code before processing\n",
    "    if response.status_code == 200:\n",
    "        # Parse the HTML content\n",
    "        soup = BeautifulSoup(response.content, 'html.parser')\n",
    "\n",
    "        # Select the relevant section containing reviews\n",
    "        page_data = soup.select('#reviews > section > div:nth-child(2) > ul')\n",
    "        \n",
    "        for data in page_data:\n",
    "            # Extract reviews\n",
    "            review_elements = data.find_all('p', class_='comment_09f24_DOcxf')\n",
    "            for comment in review_elements:\n",
    "                reviews.append(comment.text.strip())  # Add the comment text to the reviews list\n",
    "            \n",
    "            # Extract ratings\n",
    "            rating_elements = data.select('div > div.margin-t1_09f24_w96jn.margin-b1-5_09f24_NHcQi.border-color—default_09f24_NPAKY > div > div:nth-child(1) > span > div')\n",
    "            for rating in rating_elements:\n",
    "                # Use .get() to safely access 'aria-label'\n",
    "                ratings.append(rating.get('aria-label', 'No rating'))  # Default to 'No rating' if not found\n",
    "    else:\n",
    "        print(f\"Error: Unable to fetch page {current_page}. Status code: {response.status_code}\")\n",
    "\n",
    "# At this point, `reviews` and `ratings` lists will contain the extracted data\n"
   ]
  },
  {
   "cell_type": "code",
   "execution_count": 18,
   "id": "96d6f858-8bda-4b59-8c7a-64d40c6cf1f0",
   "metadata": {},
   "outputs": [
    {
     "name": "stdout",
     "output_type": "stream",
     "text": [
      "Rate limit reached. Waiting for 5 seconds.\n",
      "Rate limit reached. Waiting for 5 seconds.\n",
      "Rate limit reached. Waiting for 5 seconds.\n",
      "Rate limit reached. Waiting for 5 seconds.\n",
      "Rate limit reached. Waiting for 5 seconds.\n"
     ]
    }
   ],
   "source": [
    "import requests\n",
    "from bs4 import BeautifulSoup\n",
    "import time\n",
    "import random\n",
    "\n",
    "# Initialize lists to store reviews and ratings\n",
    "reviews = []\n",
    "ratings = []\n",
    "\n",
    "# Loop through each page\n",
    "for current_page in range(0, total_pages):\n",
    "    url = f\"{base_url}?start={current_page * 10}\"\n",
    "    headers = {\n",
    "        'User-Agent': 'Mozilla/5.0 (Windows NT 10.0; Win64; x64) AppleWebKit/537.36 (KHTML, like Gecko) Chrome/58.0.3029.110 Safari/537.3'\n",
    "    }\n",
    "    \n",
    "    retry_count = 0\n",
    "    while retry_count < 5:\n",
    "        response = requests.get(url, headers=headers)\n",
    "        \n",
    "        if response.status_code == 200:\n",
    "            # Process the page as before\n",
    "            soup = BeautifulSoup(response.content, 'html.parser')\n",
    "            page_data = soup.select('#reviews > section > div:nth-child(2) > ul')\n",
    "            \n",
    "            for data in page_data:\n",
    "                review_elements = data.find_all('p', class_='comment_09f24_DOcxf')\n",
    "                for comment in review_elements:\n",
    "                    reviews.append(comment.text.strip())\n",
    "                \n",
    "                rating_elements = data.select('div > div.margin-t1_09f24_w96jn.margin-b1-5_09f24_NHcQi.border-color—default_09f24_NPAKY > div > div:nth-child(1) > span > div')\n",
    "                for rating in rating_elements:\n",
    "                    ratings.append(rating.get('aria-label', 'No rating'))\n",
    "\n",
    "            time.sleep(random.uniform(1, 3))  # Random delay between requests\n",
    "            break  # Exit the retry loop on success\n",
    "\n",
    "        elif response.status_code == 429:\n",
    "            wait_time = int(response.headers.get('Retry-After', 5))\n",
    "            print(f\"Rate limit reached. Waiting for {wait_time} seconds.\")\n",
    "            time.sleep(wait_time)\n",
    "            retry_count += 1  # Increase retry count\n",
    "\n",
    "        else:\n",
    "            print(f\"Error: Unable to fetch page {current_page}. Status code: {response.status_code}\")\n",
    "            break  # Exit the retry loop on other errors\n"
   ]
  },
  {
   "cell_type": "code",
   "execution_count": null,
   "id": "837bfbb0-8031-43a7-a335-1b8a66eacf70",
   "metadata": {},
   "outputs": [],
   "source": []
  }
 ],
 "metadata": {
  "kernelspec": {
   "display_name": "Python 3 (ipykernel)",
   "language": "python",
   "name": "python3"
  },
  "language_info": {
   "codemirror_mode": {
    "name": "ipython",
    "version": 3
   },
   "file_extension": ".py",
   "mimetype": "text/x-python",
   "name": "python",
   "nbconvert_exporter": "python",
   "pygments_lexer": "ipython3",
   "version": "3.11.7"
  },
  "widgets": {
   "application/vnd.jupyter.widget-state+json": {
    "state": {},
    "version_major": 2,
    "version_minor": 0
   }
  }
 },
 "nbformat": 4,
 "nbformat_minor": 5
}
